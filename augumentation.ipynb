{
 "cells": [
  {
   "cell_type": "code",
   "execution_count": 5,
   "metadata": {},
   "outputs": [],
   "source": [
    "import matplotlib as plt\n",
    "import librosa\n",
    "import numpy as np"
   ]
  },
  {
   "cell_type": "code",
   "execution_count": null,
   "metadata": {},
   "outputs": [],
   "source": [
    "def plot_spec(data:np.array,sr:int,title:str, fpath:str) -> None:\n",
    "  '''\n",
    "  Function for plotting spectrogram along with amplitude wave graph\n",
    "  '''\n",
    "  label = str(fpath).split('/')[-1].split('_')[0]\n",
    "  fig, ax = plt.subplots(1,2,figsize=(15,5))\n",
    "  ax[0].title.set_text(f'{title} / Label: {label}')\n",
    "  ax[0].specgram(data,Fs=2)\n",
    "  ax[1].set_ylabel('Amplitude')\n",
    "  ax[1].plot(np.linspace(0,1,len(data)), data)\n",
    "  \n",
    "#Reading the wav file:\n",
    "# file_path = data_path.ls()[3]\n",
    "file_path = \"C:\\\\Users\\\\saket\\\\Downloads\\\\audio\\\\subset\\\\left\\\\0e5193e6_nohash_0.wav\"\n",
    "wav, sr = librosa.load(file_path,sr=None)\n",
    "\n",
    "#Plotting the spectrogram and wave graph\n",
    "plot_spec(wav,sr,'0e5193e6_nohash_0.wav',\"C:\\\\Users\\\\saket\\\\Downloads\\\\audio\\\\subset\\\\left\")"
   ]
  },
  {
   "cell_type": "code",
   "execution_count": 1,
   "metadata": {},
   "outputs": [],
   "source": [
    "import random\n",
    "import librosa\n",
    "import numpy as np\n",
    "import soundfile as sf\n",
    "\n",
    "# from helper import _plot_signal_and_augmented_signal\n",
    "\n",
    "\n",
    "\n",
    "def add_white_noise(signal, noise_percentage_factor=0.005):\n",
    "    noise = np.random.normal(0, signal.std(), signal.size)\n",
    "    augmented_signal = signal + noise * noise_percentage_factor\n",
    "    return augmented_signal\n",
    "\n",
    "\n",
    "def time_stretch(signal, time_stretch_rate=0.75):\n",
    "    \"\"\"Time stretching implemented with librosa:\n",
    "    https://librosa.org/doc/main/generated/librosa.effects.pitch_shift.html?highlight=pitch%20shift#librosa.effects.pitch_shift\n",
    "    \"\"\"\n",
    "    return librosa.effects.time_stretch(signal,rate=time_stretch_rate)\n",
    "\n",
    "\n",
    "def pitch_scale(signal, sr, num_semitones):\n",
    "    \"\"\"Pitch scaling implemented with librosa:\n",
    "    https://librosa.org/doc/main/generated/librosa.effects.pitch_shift.html?highlight=pitch%20shift#librosa.effects.pitch_shift\n",
    "    \"\"\"\n",
    "    return librosa.effects.pitch_shift(signal, sr, num_semitones)\n",
    "\n",
    "\n",
    "def random_gain(signal, min_factor=0.1, max_factor=0.12):\n",
    "    gain_rate = random.uniform(min_factor, max_factor)\n",
    "    augmented_signal = signal * gain_rate\n",
    "    return augmented_signal\n",
    "\n"
   ]
  },
  {
   "cell_type": "code",
   "execution_count": 6,
   "metadata": {},
   "outputs": [],
   "source": [
    "import librosa\n",
    "import os\n",
    "import json\n",
    "DATASET_PATH = \"C:\\\\Users\\\\saket\\\\Downloads\\\\audio\\\\data\"\n",
    "AUGUMENTED_DATA_PATH = \"Augumented\"\n",
    "SAMPLES_TO_CONSIDER = 22050 # 1 sec. of audio"
   ]
  },
  {
   "cell_type": "code",
   "execution_count": 8,
   "metadata": {},
   "outputs": [],
   "source": [
    "def augument_data(dataset_path):\n",
    "\n",
    "\n",
    "    for i, (dirpath, dirnames, filenames) in enumerate(os.walk(dataset_path)):\n",
    "\n",
    "        \n",
    "        if dirpath is not dataset_path:\n",
    "            label = dirpath.split(\"\\\\\")[-1]\n",
    "            i=0\n",
    "            aug_label_path = os.path.join(r\"C:\\Users\\saket\\Desktop\\xwebsite\\ML\\AI\\Augumented\", label)\n",
    "            aug_label_path+=\"\\\\\"\n",
    "            \n",
    "\n",
    "            for f in filenames:\n",
    "                file_path = os.path.join(dirpath, f)\n",
    "                file_name=aug_label_path+file_path.split(\"\\\\\")[-1][:-4]\n",
    "                signal, sr = librosa.load(file_path)\n",
    "                aug=file_name+\".wav\"\n",
    "                sf.write(aug, signal, sr,format='WAV')\n",
    "\n",
    "                sf.write(aug, augmented_signal, sr)\n",
    "                augmented_signal = random_gain(signal)\n",
    "                aug=file_name+\"_rg.wav\"\n",
    "                sf.write(aug, augmented_signal, sr)\n",
    "                # augmented_signal = time_stretch(signal)\n",
    "                # aug=file_name+\"_ts.wav\"\n",
    "                # sf.write(aug, augmented_signal, sr,format='WAV')\n",
    "                augmented_signal = add_white_noise(signal)\n",
    "                aug=file_name+\"_awn.wav\"\n",
    "                sf.write(aug, augmented_signal, sr,format='WAV')"
   ]
  },
  {
   "cell_type": "code",
   "execution_count": 9,
   "metadata": {},
   "outputs": [],
   "source": [
    "augument_data(DATASET_PATH)"
   ]
  }
 ],
 "metadata": {
  "interpreter": {
   "hash": "11938c6bc6919ae2720b4d5011047913343b08a43b18698fd82dedb0d4417594"
  },
  "kernelspec": {
   "display_name": "Python 3.9.0 64-bit",
   "language": "python",
   "name": "python3"
  },
  "language_info": {
   "codemirror_mode": {
    "name": "ipython",
    "version": 3
   },
   "file_extension": ".py",
   "mimetype": "text/x-python",
   "name": "python",
   "nbconvert_exporter": "python",
   "pygments_lexer": "ipython3",
   "version": "3.9.0"
  },
  "orig_nbformat": 4
 },
 "nbformat": 4,
 "nbformat_minor": 2
}
