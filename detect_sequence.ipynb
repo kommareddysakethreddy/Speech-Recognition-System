{
 "cells": [
  {
   "cell_type": "code",
   "execution_count": 1,
   "metadata": {},
   "outputs": [],
   "source": [
    "import tensorflow as tf\n",
    "from tensorflow import keras"
   ]
  },
  {
   "cell_type": "code",
   "execution_count": null,
   "metadata": {},
   "outputs": [],
   "source": [
    "def prepare_dataset(data_path, test_size=0.2, validation_size=0.2):\n",
    "    # load dataset\n",
    "    X, y = load_data(data_path)\n",
    "\n",
    "    # create train, validation, test split\n",
    "    X_train, X_test, y_train, y_test = train_test_split(X, y, test_size=test_size)\n",
    "    X_train, X_validation, y_train, y_validation = train_test_split(X_train, y_train, test_size=validation_size)\n",
    "\n",
    "    # add an axis to nd array\n",
    "    X_train = X_train[..., np.newaxis]\n",
    "    X_test = X_test[..., np.newaxis]\n",
    "    X_validation = X_validation[..., np.newaxis]\n",
    "\n",
    "    return X_train, y_train, X_validation, y_validation, X_test, y_test"
   ]
  },
  {
   "cell_type": "code",
   "execution_count": null,
   "metadata": {},
   "outputs": [],
   "source": [
    "X_train, y_train, X_validation, y_validation, X_test, y_test = prepare_dataset(\"data.json\")\n",
    "print(input_shape = X_train.shape[1:])\n",
    "print(input_shape, X_train.shape)"
   ]
  },
  {
   "cell_type": "code",
   "execution_count": null,
   "metadata": {},
   "outputs": [],
   "source": [
    "# cnn_model=tf.keras.models.load_model(\"model.h5\")\n",
    "cnn_model=build_model(input_shape, learning_rate=LEARNING_RATE)"
   ]
  },
  {
   "cell_type": "code",
   "execution_count": 2,
   "metadata": {},
   "outputs": [],
   "source": [
    "cnn_model=tf.keras.models.load_model(\"model.h5\")"
   ]
  },
  {
   "cell_type": "code",
   "execution_count": 3,
   "metadata": {},
   "outputs": [
    {
     "ename": "ValueError",
     "evalue": "Exception encountered when calling layer \"time_distributed\" (type TimeDistributed).\n\nInput 0 of layer \"sequential_2\" is incompatible with the layer: expected shape=(None, 44, 13, 1), found shape=(None, 28, 1)\n\nCall arguments received by layer \"time_distributed\" (type TimeDistributed):\n  • inputs=tf.Tensor(shape=(None, 28, 28, 1), dtype=float32)\n  • training=False\n  • mask=None",
     "output_type": "error",
     "traceback": [
      "\u001b[1;31m---------------------------------------------------------------------------\u001b[0m",
      "\u001b[1;31mValueError\u001b[0m                                Traceback (most recent call last)",
      "Cell \u001b[1;32mIn[3], line 3\u001b[0m\n\u001b[0;32m      1\u001b[0m rnn_model \u001b[38;5;241m=\u001b[39m keras\u001b[38;5;241m.\u001b[39mSequential()\n\u001b[0;32m      2\u001b[0m rnn_model\u001b[38;5;241m.\u001b[39madd(keras\u001b[38;5;241m.\u001b[39mlayers\u001b[38;5;241m.\u001b[39mInput(shape\u001b[38;5;241m=\u001b[39m(\u001b[38;5;241m28\u001b[39m, \u001b[38;5;241m28\u001b[39m, \u001b[38;5;241m1\u001b[39m)))\n\u001b[1;32m----> 3\u001b[0m \u001b[43mrnn_model\u001b[49m\u001b[38;5;241;43m.\u001b[39;49m\u001b[43madd\u001b[49m\u001b[43m(\u001b[49m\u001b[43mkeras\u001b[49m\u001b[38;5;241;43m.\u001b[39;49m\u001b[43mlayers\u001b[49m\u001b[38;5;241;43m.\u001b[39;49m\u001b[43mTimeDistributed\u001b[49m\u001b[43m(\u001b[49m\u001b[43mcnn_model\u001b[49m\u001b[43m)\u001b[49m\u001b[43m)\u001b[49m\n\u001b[0;32m      4\u001b[0m rnn_model\u001b[38;5;241m.\u001b[39madd(keras\u001b[38;5;241m.\u001b[39mlayers\u001b[38;5;241m.\u001b[39mGRU(\u001b[38;5;241m32\u001b[39m, return_sequences\u001b[38;5;241m=\u001b[39m\u001b[38;5;28;01mTrue\u001b[39;00m))\n\u001b[0;32m      5\u001b[0m rnn_model\u001b[38;5;241m.\u001b[39madd(keras\u001b[38;5;241m.\u001b[39mlayers\u001b[38;5;241m.\u001b[39mGRU(\u001b[38;5;241m32\u001b[39m))\n",
      "File \u001b[1;32m~\\AppData\\Roaming\\Python\\Python39\\site-packages\\tensorflow\\python\\trackable\\base.py:205\u001b[0m, in \u001b[0;36mno_automatic_dependency_tracking.<locals>._method_wrapper\u001b[1;34m(self, *args, **kwargs)\u001b[0m\n\u001b[0;32m    <a href='file:///c%3A/Users/saket/AppData/Roaming/Python/Python39/site-packages/tensorflow/python/trackable/base.py?line=202'>203</a>\u001b[0m \u001b[39mself\u001b[39m\u001b[39m.\u001b[39m_self_setattr_tracking \u001b[39m=\u001b[39m \u001b[39mFalse\u001b[39;00m  \u001b[39m# pylint: disable=protected-access\u001b[39;00m\n\u001b[0;32m    <a href='file:///c%3A/Users/saket/AppData/Roaming/Python/Python39/site-packages/tensorflow/python/trackable/base.py?line=203'>204</a>\u001b[0m \u001b[39mtry\u001b[39;00m:\n\u001b[1;32m--> <a href='file:///c%3A/Users/saket/AppData/Roaming/Python/Python39/site-packages/tensorflow/python/trackable/base.py?line=204'>205</a>\u001b[0m   result \u001b[39m=\u001b[39m method(\u001b[39mself\u001b[39m, \u001b[39m*\u001b[39margs, \u001b[39m*\u001b[39m\u001b[39m*\u001b[39mkwargs)\n\u001b[0;32m    <a href='file:///c%3A/Users/saket/AppData/Roaming/Python/Python39/site-packages/tensorflow/python/trackable/base.py?line=205'>206</a>\u001b[0m \u001b[39mfinally\u001b[39;00m:\n\u001b[0;32m    <a href='file:///c%3A/Users/saket/AppData/Roaming/Python/Python39/site-packages/tensorflow/python/trackable/base.py?line=206'>207</a>\u001b[0m   \u001b[39mself\u001b[39m\u001b[39m.\u001b[39m_self_setattr_tracking \u001b[39m=\u001b[39m previous_value  \u001b[39m# pylint: disable=protected-access\u001b[39;00m\n",
      "File \u001b[1;32m~\\AppData\\Roaming\\Python\\Python39\\site-packages\\keras\\utils\\traceback_utils.py:70\u001b[0m, in \u001b[0;36mfilter_traceback.<locals>.error_handler\u001b[1;34m(*args, **kwargs)\u001b[0m\n\u001b[0;32m     <a href='file:///c%3A/Users/saket/AppData/Roaming/Python/Python39/site-packages/keras/utils/traceback_utils.py?line=66'>67</a>\u001b[0m     filtered_tb \u001b[39m=\u001b[39m _process_traceback_frames(e\u001b[39m.\u001b[39m__traceback__)\n\u001b[0;32m     <a href='file:///c%3A/Users/saket/AppData/Roaming/Python/Python39/site-packages/keras/utils/traceback_utils.py?line=67'>68</a>\u001b[0m     \u001b[39m# To get the full stack trace, call:\u001b[39;00m\n\u001b[0;32m     <a href='file:///c%3A/Users/saket/AppData/Roaming/Python/Python39/site-packages/keras/utils/traceback_utils.py?line=68'>69</a>\u001b[0m     \u001b[39m# `tf.debugging.disable_traceback_filtering()`\u001b[39;00m\n\u001b[1;32m---> <a href='file:///c%3A/Users/saket/AppData/Roaming/Python/Python39/site-packages/keras/utils/traceback_utils.py?line=69'>70</a>\u001b[0m     \u001b[39mraise\u001b[39;00m e\u001b[39m.\u001b[39mwith_traceback(filtered_tb) \u001b[39mfrom\u001b[39;00m \u001b[39mNone\u001b[39m\n\u001b[0;32m     <a href='file:///c%3A/Users/saket/AppData/Roaming/Python/Python39/site-packages/keras/utils/traceback_utils.py?line=70'>71</a>\u001b[0m \u001b[39mfinally\u001b[39;00m:\n\u001b[0;32m     <a href='file:///c%3A/Users/saket/AppData/Roaming/Python/Python39/site-packages/keras/utils/traceback_utils.py?line=71'>72</a>\u001b[0m     \u001b[39mdel\u001b[39;00m filtered_tb\n",
      "File \u001b[1;32m~\\AppData\\Roaming\\Python\\Python39\\site-packages\\keras\\engine\\input_spec.py:295\u001b[0m, in \u001b[0;36massert_input_compatibility\u001b[1;34m(input_spec, inputs, layer_name)\u001b[0m\n\u001b[0;32m    <a href='file:///c%3A/Users/saket/AppData/Roaming/Python/Python39/site-packages/keras/engine/input_spec.py?line=292'>293</a>\u001b[0m \u001b[39mif\u001b[39;00m spec_dim \u001b[39mis\u001b[39;00m \u001b[39mnot\u001b[39;00m \u001b[39mNone\u001b[39;00m \u001b[39mand\u001b[39;00m dim \u001b[39mis\u001b[39;00m \u001b[39mnot\u001b[39;00m \u001b[39mNone\u001b[39;00m:\n\u001b[0;32m    <a href='file:///c%3A/Users/saket/AppData/Roaming/Python/Python39/site-packages/keras/engine/input_spec.py?line=293'>294</a>\u001b[0m     \u001b[39mif\u001b[39;00m spec_dim \u001b[39m!=\u001b[39m dim:\n\u001b[1;32m--> <a href='file:///c%3A/Users/saket/AppData/Roaming/Python/Python39/site-packages/keras/engine/input_spec.py?line=294'>295</a>\u001b[0m         \u001b[39mraise\u001b[39;00m \u001b[39mValueError\u001b[39;00m(\n\u001b[0;32m    <a href='file:///c%3A/Users/saket/AppData/Roaming/Python/Python39/site-packages/keras/engine/input_spec.py?line=295'>296</a>\u001b[0m             \u001b[39mf\u001b[39m\u001b[39m'\u001b[39m\u001b[39mInput \u001b[39m\u001b[39m{\u001b[39;00minput_index\u001b[39m}\u001b[39;00m\u001b[39m of layer \u001b[39m\u001b[39m\"\u001b[39m\u001b[39m{\u001b[39;00mlayer_name\u001b[39m}\u001b[39;00m\u001b[39m\"\u001b[39m\u001b[39m is \u001b[39m\u001b[39m'\u001b[39m\n\u001b[0;32m    <a href='file:///c%3A/Users/saket/AppData/Roaming/Python/Python39/site-packages/keras/engine/input_spec.py?line=296'>297</a>\u001b[0m             \u001b[39m\"\u001b[39m\u001b[39mincompatible with the layer: \u001b[39m\u001b[39m\"\u001b[39m\n\u001b[0;32m    <a href='file:///c%3A/Users/saket/AppData/Roaming/Python/Python39/site-packages/keras/engine/input_spec.py?line=297'>298</a>\u001b[0m             \u001b[39mf\u001b[39m\u001b[39m\"\u001b[39m\u001b[39mexpected shape=\u001b[39m\u001b[39m{\u001b[39;00mspec\u001b[39m.\u001b[39mshape\u001b[39m}\u001b[39;00m\u001b[39m, \u001b[39m\u001b[39m\"\u001b[39m\n\u001b[0;32m    <a href='file:///c%3A/Users/saket/AppData/Roaming/Python/Python39/site-packages/keras/engine/input_spec.py?line=298'>299</a>\u001b[0m             \u001b[39mf\u001b[39m\u001b[39m\"\u001b[39m\u001b[39mfound shape=\u001b[39m\u001b[39m{\u001b[39;00mdisplay_shape(x\u001b[39m.\u001b[39mshape)\u001b[39m}\u001b[39;00m\u001b[39m\"\u001b[39m\n\u001b[0;32m    <a href='file:///c%3A/Users/saket/AppData/Roaming/Python/Python39/site-packages/keras/engine/input_spec.py?line=299'>300</a>\u001b[0m         )\n",
      "\u001b[1;31mValueError\u001b[0m: Exception encountered when calling layer \"time_distributed\" (type TimeDistributed).\n\nInput 0 of layer \"sequential_2\" is incompatible with the layer: expected shape=(None, 44, 13, 1), found shape=(None, 28, 1)\n\nCall arguments received by layer \"time_distributed\" (type TimeDistributed):\n  • inputs=tf.Tensor(shape=(None, 28, 28, 1), dtype=float32)\n  • training=False\n  • mask=None"
     ]
    }
   ],
   "source": [
    "rnn_model = keras.Sequential()\n",
    "rnn_model.add(keras.layers.Input(shape=(28, 28, 1)))\n",
    "rnn_model.add(keras.layers.TimeDistributed(cnn_model))\n",
    "rnn_model.add(keras.layers.GRU(32, return_sequences=True))\n",
    "rnn_model.add(keras.layers.GRU(32))\n",
    "rnn_model.add(keras.layers.Dense(10, activation='softmax'))\n",
    "\n",
    "rnn_model.summary()"
   ]
  },
  {
   "cell_type": "code",
   "execution_count": null,
   "metadata": {},
   "outputs": [],
   "source": [
    "# from tensorflow.keras.models import Model\n",
    "# from tensorflow.keras.layers import Input, LSTM, Dense, TimeDistributed\n",
    "\n",
    "# # Define the input shape for the CNN model\n",
    "# cnn_input_shape = (28, 28, 1)\n",
    "\n",
    "# # Define the CNN model\n",
    "# cnn_model = keras.Sequential()\n",
    "# cnn_model.add(keras.layers.Conv2D(32, kernel_size=(3, 3), activation='relu', input_shape=cnn_input_shape))\n",
    "# cnn_model.add(keras.layers.MaxPooling2D(pool_size=(2, 2)))\n",
    "# cnn_model.add(keras.layers.Conv2D(64, kernel_size=(3, 3), activation='relu'))\n",
    "# cnn_model.add(keras.layers.MaxPooling2D(pool_size=(2, 2)))\n",
    "# cnn_model.add(keras.layers.Flatten())\n",
    "# cnn_model.add(keras.layers.Dense(128, activation='relu'))\n",
    "# cnn_model.add(keras.layers.Dense(1, activation='sigmoid'))\n",
    "\n",
    "# cnn_model.summary()\n"
   ]
  },
  {
   "cell_type": "code",
   "execution_count": null,
   "metadata": {},
   "outputs": [],
   "source": [
    "# rnn_input_shape = (None, ) + input_shape\n",
    "\n",
    "# # Define the encoder LSTM layer\n",
    "# encoder_inputs = Input(shape=rnn_input_shape)\n",
    "# encoder_lstm = LSTM(128, return_state=True)\n",
    "# _, state_h, state_c = encoder_lstm(cnn_model(encoder_inputs))\n",
    "\n",
    "# # Define the decoder LSTM layer\n",
    "# decoder_inputs = Input(shape=(None, 10)) # 4 possible words: up, down, left, right\n",
    "# decoder_lstm = LSTM(128, return_sequences=True, return_state=True)\n",
    "# decoder_outputs, _, _ = decoder_lstm(decoder_inputs, initial_state=[state_h, state_c])\n",
    "\n",
    "# # Define the output dense layer\n",
    "# decoder_dense = Dense(4, activation='softmax')\n",
    "# decoder_outputs = TimeDistributed(decoder_dense)(decoder_outputs)\n",
    "\n",
    "# # Define the full model\n",
    "# model = Model(inputs=[encoder_inputs, decoder_inputs], outputs=decoder_outputs)\n",
    "\n",
    "# # Compile the model\n",
    "# model.compile(optimizer='adam', loss='categorical_crossentropy', metrics=['accuracy'])\n"
   ]
  },
  {
   "cell_type": "code",
   "execution_count": null,
   "metadata": {},
   "outputs": [],
   "source": [
    "# Compile the RNN model with categorical crossentropy loss function and Adam optimizer\n",
    "rnn_model.compile(loss='categorical_crossentropy', optimizer='adam', metrics=['accuracy'])"
   ]
  }
 ],
 "metadata": {
  "interpreter": {
   "hash": "11938c6bc6919ae2720b4d5011047913343b08a43b18698fd82dedb0d4417594"
  },
  "kernelspec": {
   "display_name": "Python 3.9.0 64-bit",
   "language": "python",
   "name": "python3"
  },
  "language_info": {
   "codemirror_mode": {
    "name": "ipython",
    "version": 3
   },
   "file_extension": ".py",
   "mimetype": "text/x-python",
   "name": "python",
   "nbconvert_exporter": "python",
   "pygments_lexer": "ipython3",
   "version": "3.9.0"
  },
  "orig_nbformat": 4
 },
 "nbformat": 4,
 "nbformat_minor": 2
}
